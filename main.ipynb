{
 "cells": [
  {
   "cell_type": "code",
   "execution_count": 5,
   "metadata": {},
   "outputs": [
    {
     "name": "stdout",
     "output_type": "stream",
     "text": [
      "Warning: Your Kaggle API key is readable by other users on this system! To fix this, you can run 'chmod 600 /Users/matthewharrison/.kaggle/kaggle.json'\n"
     ]
    }
   ],
   "source": [
    "import os\n",
    "import pandas as pd\n",
    "import folium \n",
    "import kaggle"
   ]
  },
  {
   "cell_type": "code",
   "execution_count": null,
   "metadata": {},
   "outputs": [
    {
     "name": "stdout",
     "output_type": "stream",
     "text": [
      "Warning: Your Kaggle API key is readable by other users on this system! To fix this, you can run 'chmod 600 /Users/matthewharrison/.kaggle/kaggle.json'\n",
      "Dataset URL: https://www.kaggle.com/datasets/unsdsn/world-happiness\n",
      "Path to dataset files: ['2019.csv', '2018.csv', '2015.csv', '2016.csv', '2017.csv']\n"
     ]
    }
   ],
   "source": [
    "\n",
    "# Download latest version\n",
    "\n",
    "kaggle.api.authenticate()\n",
    "\n",
    "kaggle.api.dataset_download_files('unsdsn/world-happiness', path='data/', unzip=True)\n",
    "\n",
    "print(\"Files downloaded:\", os.listdir('data/'))\n",
    "\n"
   ]
  },
  {
   "cell_type": "code",
   "execution_count": 8,
   "metadata": {},
   "outputs": [],
   "source": [
    "\n",
    "# Path to data folder\n",
    "data_dir = \"data/\"\n"
   ]
  },
  {
   "cell_type": "code",
   "execution_count": 13,
   "metadata": {},
   "outputs": [
    {
     "name": "stdout",
     "output_type": "stream",
     "text": [
      "['2019.csv', '2018.csv', '2015.csv', '2016.csv', '2017.csv']\n"
     ]
    }
   ],
   "source": [
    "\n",
    "# List all files in the directory\n",
    "files = [f for f in os.listdir(data_dir) if f.endswith(\".csv\")]\n",
    "\n",
    "print(files)"
   ]
  },
  {
   "cell_type": "code",
   "execution_count": 15,
   "metadata": {},
   "outputs": [],
   "source": [
    "\n",
    "# Load all files into a single DataFrame\n",
    "df_list = []\n",
    "for file in files:\n",
    "    year = file.split(\".\")[0]  # Extract year from filename\n",
    "    temp_df = pd.read_csv(os.path.join(data_dir, file))\n",
    "    temp_df[\"Year\"] = int(year)  # Add year column\n",
    "    df_list.append(temp_df)\n"
   ]
  },
  {
   "cell_type": "code",
   "execution_count": 21,
   "metadata": {},
   "outputs": [
    {
     "name": "stdout",
     "output_type": "stream",
     "text": [
      "<class 'pandas.core.frame.DataFrame'>\n",
      "RangeIndex: 782 entries, 0 to 781\n",
      "Data columns (total 31 columns):\n",
      " #   Column                         Non-Null Count  Dtype  \n",
      "---  ------                         --------------  -----  \n",
      " 0   Overall rank                   312 non-null    float64\n",
      " 1   Country or region              312 non-null    object \n",
      " 2   Score                          312 non-null    float64\n",
      " 3   GDP per capita                 312 non-null    float64\n",
      " 4   Social support                 312 non-null    float64\n",
      " 5   Healthy life expectancy        312 non-null    float64\n",
      " 6   Freedom to make life choices   312 non-null    float64\n",
      " 7   Generosity                     782 non-null    float64\n",
      " 8   Perceptions of corruption      311 non-null    float64\n",
      " 9   Year                           782 non-null    int64  \n",
      " 10  Country                        470 non-null    object \n",
      " 11  Region                         315 non-null    object \n",
      " 12  Happiness Rank                 315 non-null    float64\n",
      " 13  Happiness Score                315 non-null    float64\n",
      " 14  Standard Error                 158 non-null    float64\n",
      " 15  Economy (GDP per Capita)       315 non-null    float64\n",
      " 16  Family                         470 non-null    float64\n",
      " 17  Health (Life Expectancy)       315 non-null    float64\n",
      " 18  Freedom                        470 non-null    float64\n",
      " 19  Trust (Government Corruption)  315 non-null    float64\n",
      " 20  Dystopia Residual              315 non-null    float64\n",
      " 21  Lower Confidence Interval      157 non-null    float64\n",
      " 22  Upper Confidence Interval      157 non-null    float64\n",
      " 23  Happiness.Rank                 155 non-null    float64\n",
      " 24  Happiness.Score                155 non-null    float64\n",
      " 25  Whisker.high                   155 non-null    float64\n",
      " 26  Whisker.low                    155 non-null    float64\n",
      " 27  Economy..GDP.per.Capita.       155 non-null    float64\n",
      " 28  Health..Life.Expectancy.       155 non-null    float64\n",
      " 29  Trust..Government.Corruption.  155 non-null    float64\n",
      " 30  Dystopia.Residual              155 non-null    float64\n",
      "dtypes: float64(27), int64(1), object(3)\n",
      "memory usage: 189.5+ KB\n",
      "None\n",
      "   Overall rank Country or region  Score  GDP per capita  Social support  \\\n",
      "0           1.0           Finland  7.769           1.340           1.587   \n",
      "1           2.0           Denmark  7.600           1.383           1.573   \n",
      "2           3.0            Norway  7.554           1.488           1.582   \n",
      "3           4.0           Iceland  7.494           1.380           1.624   \n",
      "4           5.0       Netherlands  7.488           1.396           1.522   \n",
      "\n",
      "   Healthy life expectancy  Freedom to make life choices  Generosity  \\\n",
      "0                    0.986                         0.596       0.153   \n",
      "1                    0.996                         0.592       0.252   \n",
      "2                    1.028                         0.603       0.271   \n",
      "3                    1.026                         0.591       0.354   \n",
      "4                    0.999                         0.557       0.322   \n",
      "\n",
      "   Perceptions of corruption  Year  ... Lower Confidence Interval  \\\n",
      "0                      0.393  2019  ...                       NaN   \n",
      "1                      0.410  2019  ...                       NaN   \n",
      "2                      0.341  2019  ...                       NaN   \n",
      "3                      0.118  2019  ...                       NaN   \n",
      "4                      0.298  2019  ...                       NaN   \n",
      "\n",
      "  Upper Confidence Interval  Happiness.Rank  Happiness.Score  Whisker.high  \\\n",
      "0                       NaN             NaN              NaN           NaN   \n",
      "1                       NaN             NaN              NaN           NaN   \n",
      "2                       NaN             NaN              NaN           NaN   \n",
      "3                       NaN             NaN              NaN           NaN   \n",
      "4                       NaN             NaN              NaN           NaN   \n",
      "\n",
      "   Whisker.low  Economy..GDP.per.Capita.  Health..Life.Expectancy.  \\\n",
      "0          NaN                       NaN                       NaN   \n",
      "1          NaN                       NaN                       NaN   \n",
      "2          NaN                       NaN                       NaN   \n",
      "3          NaN                       NaN                       NaN   \n",
      "4          NaN                       NaN                       NaN   \n",
      "\n",
      "   Trust..Government.Corruption.  Dystopia.Residual  \n",
      "0                            NaN                NaN  \n",
      "1                            NaN                NaN  \n",
      "2                            NaN                NaN  \n",
      "3                            NaN                NaN  \n",
      "4                            NaN                NaN  \n",
      "\n",
      "[5 rows x 31 columns]\n"
     ]
    }
   ],
   "source": [
    "\n",
    "# Combine all years into one DataFrame\n",
    "df = pd.concat(df_list, ignore_index=True)\n",
    "\n",
    "# Display basic info\n",
    "print(df.info())\n",
    "print(df.head())"
   ]
  },
  {
   "cell_type": "code",
   "execution_count": 23,
   "metadata": {},
   "outputs": [
    {
     "name": "stdout",
     "output_type": "stream",
     "text": [
      "2019\n"
     ]
    }
   ],
   "source": [
    "# Find the most recent year in the dataset\n",
    "latest_year = df[\"Year\"].max()\n",
    "print (latest_year)\n"
   ]
  },
  {
   "cell_type": "code",
   "execution_count": 27,
   "metadata": {},
   "outputs": [
    {
     "name": "stdout",
     "output_type": "stream",
     "text": [
      "Top 5 Countries by Overall Rank in 2019:\n",
      "  Country  Overall rank\n",
      "0     NaN           1.0\n",
      "1     NaN           2.0\n",
      "2     NaN           3.0\n",
      "3     NaN           4.0\n",
      "4     NaN           5.0\n"
     ]
    }
   ],
   "source": [
    "\n",
    "# Get the top-ranked countries (assuming lower rank is better)\n",
    "top_countries = df[df[\"Year\"] == latest_year].nsmallest(5, \"Overall rank\")\n",
    "\n",
    "print(f\"Top 5 Countries by Overall Rank in {latest_year}:\")\n",
    "print(top_countries[[\"Country\", \"Overall rank\"]])"
   ]
  }
 ],
 "metadata": {
  "kernelspec": {
   "display_name": "venv",
   "language": "python",
   "name": "python3"
  },
  "language_info": {
   "codemirror_mode": {
    "name": "ipython",
    "version": 3
   },
   "file_extension": ".py",
   "mimetype": "text/x-python",
   "name": "python",
   "nbconvert_exporter": "python",
   "pygments_lexer": "ipython3",
   "version": "3.13.1"
  }
 },
 "nbformat": 4,
 "nbformat_minor": 2
}
